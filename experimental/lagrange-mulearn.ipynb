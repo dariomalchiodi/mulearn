{
 "cells": [
  {
   "cell_type": "code",
   "execution_count": 1,
   "metadata": {},
   "outputs": [],
   "source": [
    "import gurobipy as gpy"
   ]
  },
  {
   "cell_type": "code",
   "execution_count": 2,
   "metadata": {},
   "outputs": [
    {
     "name": "stdout",
     "output_type": "stream",
     "text": [
      "Academic license - for non-commercial use only - expires 2022-05-19\n",
      "Using license file /home/malchiodi/.gurobi/gurobi.lic\n"
     ]
    }
   ],
   "source": [
    "model = gpy.Model('mulearn-scaled')"
   ]
  },
  {
   "cell_type": "code",
   "execution_count": 3,
   "metadata": {},
   "outputs": [],
   "source": [
    "x1 = model.addVar(name=f'x1', vtype=gpy.GRB.CONTINUOUS, lb=0, ub=1)\n",
    "x2 = model.addVar(name=f'x2', vtype=gpy.GRB.CONTINUOUS, lb=0, ub=1)"
   ]
  },
  {
   "cell_type": "code",
   "execution_count": 4,
   "metadata": {},
   "outputs": [],
   "source": [
    "l0 = 200\n",
    "l1 = -200"
   ]
  },
  {
   "cell_type": "code",
   "execution_count": 5,
   "metadata": {},
   "outputs": [],
   "source": [
    "x1.start = .45\n",
    "x2.start = .55"
   ]
  },
  {
   "cell_type": "code",
   "execution_count": 6,
   "metadata": {},
   "outputs": [],
   "source": [
    "obj = x1**2 +x2**2 + l0 * (x1 + x2 - 1) + l1 * (1 - x1 - x2)"
   ]
  },
  {
   "cell_type": "code",
   "execution_count": 7,
   "metadata": {},
   "outputs": [],
   "source": [
    "model.setObjective(obj, gpy.GRB.MAXIMIZE)\n",
    "#model.setParam(\"NonConvex\", 2)"
   ]
  },
  {
   "cell_type": "code",
   "execution_count": 8,
   "metadata": {},
   "outputs": [
    {
     "name": "stdout",
     "output_type": "stream",
     "text": [
      "Gurobi Optimizer version 9.1.2 build v9.1.2rc0 (linux64)\n",
      "Thread count: 4 physical cores, 8 logical processors, using up to 8 threads\n",
      "Optimize a model with 0 rows, 2 columns and 0 nonzeros\n",
      "Model fingerprint: 0x9d2b64a0\n",
      "Model has 2 quadratic objective terms\n",
      "Coefficient statistics:\n",
      "  Matrix range     [0e+00, 0e+00]\n",
      "  Objective range  [4e+02, 4e+02]\n",
      "  QObjective range [2e+00, 2e+00]\n",
      "  Bounds range     [1e+00, 1e+00]\n",
      "  RHS range        [0e+00, 0e+00]\n",
      "Presolve removed 0 rows and 2 columns\n",
      "Presolve time: 0.02s\n",
      "Presolve: All rows and columns removed\n",
      "\n",
      "Barrier solved model in 0 iterations and 0.02 seconds\n",
      "Optimal objective 4.02000000e+02\n"
     ]
    }
   ],
   "source": [
    "model.update()\n",
    "model.optimize()"
   ]
  },
  {
   "cell_type": "code",
   "execution_count": 9,
   "metadata": {},
   "outputs": [
    {
     "data": {
      "text/plain": [
       "1.0"
      ]
     },
     "execution_count": 9,
     "metadata": {},
     "output_type": "execute_result"
    }
   ],
   "source": [
    "x1.x"
   ]
  },
  {
   "cell_type": "code",
   "execution_count": 10,
   "metadata": {},
   "outputs": [
    {
     "data": {
      "text/plain": [
       "1.0"
      ]
     },
     "execution_count": 10,
     "metadata": {},
     "output_type": "execute_result"
    }
   ],
   "source": [
    "x2.x"
   ]
  },
  {
   "cell_type": "code",
   "execution_count": 11,
   "metadata": {},
   "outputs": [
    {
     "data": {
      "text/plain": [
       "402.0"
      ]
     },
     "execution_count": 11,
     "metadata": {},
     "output_type": "execute_result"
    }
   ],
   "source": [
    "model.objVal"
   ]
  },
  {
   "cell_type": "code",
   "execution_count": 1,
   "metadata": {},
   "outputs": [
    {
     "name": "stderr",
     "output_type": "stream",
     "text": [
      "2022-03-22 14:25:49.149956: W tensorflow/stream_executor/platform/default/dso_loader.cc:59] Could not load dynamic library 'libcudart.so.10.1'; dlerror: libcudart.so.10.1: cannot open shared object file: No such file or directory; LD_LIBRARY_PATH: /home/malchiodi/share/gurobi811/lib:\n",
      "2022-03-22 14:25:49.149975: I tensorflow/stream_executor/cuda/cudart_stub.cc:29] Ignore above cudart dlerror if you do not have a GPU set up on your machine.\n"
     ]
    }
   ],
   "source": [
    "import tensorflow as tf\n",
    "import numpy as np"
   ]
  },
  {
   "cell_type": "markdown",
   "metadata": {},
   "source": [
    "# Rifacciamo tutto"
   ]
  },
  {
   "cell_type": "markdown",
   "metadata": {},
   "source": [
    "## Rilassamento lineare del vincolo di = e forma quadratica sviluppata"
   ]
  },
  {
   "cell_type": "code",
   "execution_count": 2,
   "metadata": {},
   "outputs": [],
   "source": [
    "# E' QUELLO GIUSTO\n",
    "\n",
    "from tensorflow.keras.optimizers import Adam\n",
    "\n",
    "def solve_problem(Q, q, A, b, C, d,\n",
    "                  max_iter=1000,\n",
    "                  max_gap=1E-4,\n",
    "                  alpha_0=1E-1,\n",
    "                  window_width=30,\n",
    "                  learning_rate=1E-2,\n",
    "                  verbose=False):\n",
    "    '''Solves the lagrangian relaxation for a constrained optimization\n",
    "    problem and returns its result. The structure of the primal problem\n",
    "    is the following\n",
    "    \n",
    "    min x.T Q x + q.T x\n",
    "    subject to\n",
    "    A x = b\n",
    "    C x <= d\n",
    "    \n",
    "    where .T denotes the transposition operator. Optimization takes place\n",
    "    in a iterated two-steps procedure: an outer process devoted to modifying\n",
    "    the values of the lagrange multipliers, and an inner process working on\n",
    "    the primal variables.\n",
    "    \n",
    "    The arguments are as follows, given n as the number of variables of\n",
    "    the primal problem (i.e., the length of x)\n",
    "    \n",
    "    - Q: n x n matrix containing the quadratic coefficients of the cost\n",
    "      function;\n",
    "    - q: vector containing the n linear coefficients of the cost function\n",
    "    - A: s x n matrix containing the coefficients of the = constraints\n",
    "    - b: vector containing the s right members of the = constraints\n",
    "    - C: t x n matrix containing the coefficients of the <= constraings\n",
    "    - d: vector containing the t right members of the <= coefficients\n",
    "    - max_iter: maximum number of iterations of the *outer* optimization\n",
    "      procedure\n",
    "    - max_gap: maximum gap between primal and dual objectives ensuring\n",
    "      premature end of the *outer* optimization procedure\n",
    "    - alpha_0: initial value of the learning rate in the *outer* optimization\n",
    "      procedure\n",
    "    - window_width: width of the moving window on the objective function for\n",
    "      the *inner* optimization process\n",
    "    - verbose: boolean flag triggering verbose output\n",
    "    \n",
    "    returns\n",
    "    '''\n",
    "    \n",
    "    optimizer = Adam(learning_rate=10**-2)\n",
    "\n",
    "    x = tf.Variable(np.random.random(len(q)),\n",
    "                    name='x',\n",
    "                    trainable=True,\n",
    "                    dtype=tf.float32)\n",
    "    Q = tf.constant(np.array(Q), dtype='float32')\n",
    "    q = tf.constant(np.array(q), dtype='float32')\n",
    "    \n",
    "    A = np.array(A)\n",
    "    s = len(A)\n",
    "    C = np.array(C)\n",
    "    b = np.array(b)\n",
    "    d = np.array(d)\n",
    "    \n",
    "    M = np.vstack([A, -A, C])\n",
    "    m = np.hstack([b, -b, d])\n",
    "    lambda_ = tf.constant(np.random.random(len(m)), dtype='float32')\n",
    "    \n",
    "    M = tf.constant(M, dtype='float32')\n",
    "    m = tf.constant(m, dtype='float32')\n",
    "\n",
    "    \n",
    "    def original_objective():\n",
    "        def obj():\n",
    "            return tf.tensordot(tf.linalg.matvec(Q, x), x, axes=1) + \\\n",
    "                   tf.tensordot(q, x, axes=1)\n",
    "        return obj\n",
    "\n",
    "    def lagrangian_objective(lambda_):\n",
    "        def obj():\n",
    "            return tf.tensordot(tf.linalg.matvec(Q, x), x, axes=1) + \\\n",
    "                   tf.tensordot(q, x, axes=1) + \\\n",
    "                   tf.tensordot(lambda_, m - tf.linalg.matvec(M, x), axes=1)\n",
    "        return obj\n",
    "\n",
    "    obj_val = []\n",
    "    lagr_val = []\n",
    "    gap_val = []\n",
    "    gap = max_gap + 1\n",
    "\n",
    "    num_bad_iterations = 0\n",
    "    prev_orig = np.inf\n",
    "\n",
    "    i = 0\n",
    "    \n",
    "    while i < max_iter and (gap<0 or gap > max_gap):\n",
    "        lagr_obj = lagrangian_objective(lambda_)\n",
    "        orig_obj = original_objective()\n",
    "        prev_lagr = 10*3\n",
    "        curr_lagr = 0\n",
    "        vals = []\n",
    "        t = 0\n",
    "        window_width = 30\n",
    "        window = list(np.logspace(1, window_width, window_width))\n",
    "        # this is to ensure a high value for the standard deviation\n",
    "        # of the elements to which the window has been initialized \n",
    "        \n",
    "        while (np.std(window)/abs(np.mean(window)) > 0.001 or t < 100) \\\n",
    "              and t < 1000:\n",
    "            optimizer.minimize(lagr_obj, var_list=x)\n",
    "            prev_lagr = curr_lagr\n",
    "            curr_lagr = lagr_obj().numpy()\n",
    "            vals.append(curr_lagr)\n",
    "            t += 1\n",
    "            window = window[1:]\n",
    "            window.append(curr_lagr)\n",
    "        \n",
    "        curr_orig = orig_obj().numpy()\n",
    "        if curr_orig < prev_orig:\n",
    "            num_bad_iterations += 1\n",
    "\n",
    "        prev_orig = curr_orig\n",
    "\n",
    "        \n",
    "        obj_val.append(curr_orig)\n",
    "        lagr_val.append(curr_lagr)\n",
    "        \n",
    "        subgradient = (m - tf.linalg.matvec(M, x)).numpy()\n",
    "        gap = tf.tensordot(lambda_[:2*s], m[:2*s] - \\\n",
    "              tf.linalg.matvec(M[:2*s], x), axes=1).numpy()\n",
    "        gap_val.append(gap)\n",
    "        \n",
    "        if verbose and i%10 == 0:\n",
    "            print(f'i={i}, dual={lagr_obj().numpy():.3f}, '\n",
    "                  f'prim={orig_obj().numpy():.3f}, gap={gap:.6f}')\n",
    "        \n",
    "        alpha = alpha_0 / num_bad_iterations\n",
    "        lambda_ = tf.maximum(0, lambda_ + alpha * subgradient)\n",
    "\n",
    "        i += 1\n",
    "\n",
    "    return obj_val, lagr_val, x, lambda_, gap_val\n",
    "\n",
    "    "
   ]
  },
  {
   "cell_type": "code",
   "execution_count": 3,
   "metadata": {},
   "outputs": [
    {
     "name": "stderr",
     "output_type": "stream",
     "text": [
      "2022-03-22 14:26:16.553431: W tensorflow/stream_executor/platform/default/dso_loader.cc:59] Could not load dynamic library 'libcuda.so.1'; dlerror: libcuda.so.1: cannot open shared object file: No such file or directory; LD_LIBRARY_PATH: /home/malchiodi/share/gurobi811/lib:\n",
      "2022-03-22 14:26:16.553531: W tensorflow/stream_executor/cuda/cuda_driver.cc:312] failed call to cuInit: UNKNOWN ERROR (303)\n",
      "2022-03-22 14:26:16.553580: I tensorflow/stream_executor/cuda/cuda_diagnostics.cc:156] kernel driver does not appear to be running on this host (malchiodi): /proc/driver/nvidia/version does not exist\n",
      "2022-03-22 14:26:16.554414: I tensorflow/core/platform/cpu_feature_guard.cc:142] This TensorFlow binary is optimized with oneAPI Deep Neural Network Library (oneDNN)to use the following CPU instructions in performance-critical operations:  AVX2 FMA\n",
      "To enable them in other operations, rebuild TensorFlow with the appropriate compiler flags.\n",
      "2022-03-22 14:26:16.592241: I tensorflow/core/platform/profile_utils/cpu_utils.cc:104] CPU Frequency: 3399905000 Hz\n",
      "2022-03-22 14:26:16.592463: I tensorflow/compiler/xla/service/service.cc:168] XLA service 0x55c6a1b40b50 initialized for platform Host (this does not guarantee that XLA will be used). Devices:\n",
      "2022-03-22 14:26:16.592478: I tensorflow/compiler/xla/service/service.cc:176]   StreamExecutor device (0): Host, Default Version\n"
     ]
    },
    {
     "name": "stdout",
     "output_type": "stream",
     "text": [
      "i=0, dual=1.893, prim=0.094, gap=0.397250\n",
      "i=10, dual=3.144, prim=0.455, gap=0.048821\n",
      "i=20, dual=4.149, prim=0.495, gap=0.005372\n",
      "i=30, dual=5.149, prim=0.499, gap=0.000574\n"
     ]
    }
   ],
   "source": [
    "Q = [[1, 0], [0, 1]]\n",
    "q = [0, 0]\n",
    "A = [[1, 1]]\n",
    "b = [1]\n",
    "C = [[-1, -1], [1, 0], [0, 1], [-1, 0], [0, -1]]\n",
    "d = [-1, 1, 1, 0, 0]\n",
    "\n",
    "obj_val, lagr_val, x, lambda_, gap = solve_problem(Q, q, A, b, C, d, max_gap=10**-4, verbose=True)"
   ]
  },
  {
   "cell_type": "code",
   "execution_count": 4,
   "metadata": {},
   "outputs": [
    {
     "data": {
      "image/png": "[encoded data removed]",
      "text/plain": [
       "<Figure size 432x288 with 1 Axes>"
      ]
     },
     "metadata": {
      "needs_background": "light"
     },
     "output_type": "display_data"
    }
   ],
   "source": [
    "import matplotlib.pyplot as plt\n",
    "\n",
    "plt.plot(np.arange(1, len(obj_val)+1), obj_val, label='primal')\n",
    "# plt.plot(np.arange(1, len(lagr_val)+1), lagr_val, label='dual')\n",
    "plt.legend()\n",
    "plt.show()"
   ]
  },
  {
   "cell_type": "code",
   "execution_count": 5,
   "metadata": {},
   "outputs": [
    {
     "data": {
      "image/png": "[encoded data removed]",
      "text/plain": [
       "<Figure size 432x288 with 1 Axes>"
      ]
     },
     "metadata": {
      "needs_background": "light"
     },
     "output_type": "display_data"
    }
   ],
   "source": [
    "plt.plot(np.arange(1, len(gap)+1), gap, label='gap')\n",
    "plt.ylim(0, 0.3)\n",
    "plt.legend()\n",
    "plt.show()"
   ]
  },
  {
   "cell_type": "code",
   "execution_count": 6,
   "metadata": {},
   "outputs": [
    {
     "data": {
      "text/plain": [
       "array([0.50239414, 0.49750745], dtype=float32)"
      ]
     },
     "execution_count": 6,
     "metadata": {},
     "output_type": "execute_result"
    }
   ],
   "source": [
    "x.numpy()"
   ]
  },
  {
   "cell_type": "code",
   "execution_count": 7,
   "metadata": {},
   "outputs": [
    {
     "data": {
      "text/plain": [
       "0.4999135"
      ]
     },
     "execution_count": 7,
     "metadata": {},
     "output_type": "execute_result"
    }
   ],
   "source": [
    "obj_val[-1]"
   ]
  },
  {
   "cell_type": "code",
   "execution_count": 8,
   "metadata": {},
   "outputs": [
    {
     "data": {
      "text/plain": [
       "9.771578e-05"
      ]
     },
     "execution_count": 8,
     "metadata": {},
     "output_type": "execute_result"
    }
   ],
   "source": [
    "gap[-1]"
   ]
  },
  {
   "cell_type": "markdown",
   "metadata": {},
   "source": [
    "## Facciamo una prova passo passo"
   ]
  },
  {
   "cell_type": "code",
   "execution_count": 9,
   "metadata": {},
   "outputs": [],
   "source": [
    "xs = np.array([[-2.68412563,  0.31939725],\n",
    "       [-2.71414169, -0.17700123],\n",
    "       [-2.88899057, -0.14494943],\n",
    "       [-2.74534286, -0.31829898],\n",
    "       [-2.72871654,  0.32675451],\n",
    "       [-2.28085963,  0.74133045],\n",
    "       [-2.82053775, -0.08946138],\n",
    "       [-2.62614497,  0.16338496],\n",
    "       [-2.88638273, -0.57831175],\n",
    "       [-2.6727558 , -0.11377425],\n",
    "       [-2.50694709,  0.6450689 ],\n",
    "       [-2.61275523,  0.01472994],\n",
    "       [-2.78610927, -0.235112  ],\n",
    "       [-3.22380374, -0.51139459],\n",
    "       [-2.64475039,  1.17876464],\n",
    "       [-2.38603903,  1.33806233],\n",
    "       [-2.62352788,  0.81067951],\n",
    "       [-2.64829671,  0.31184914],\n",
    "       [-2.19982032,  0.87283904],\n",
    "       [-2.5879864 ,  0.51356031],\n",
    "       [-2.31025622,  0.39134594],\n",
    "       [-2.54370523,  0.43299606],\n",
    "       [-3.21593942,  0.13346807],\n",
    "       [-2.30273318,  0.09870885],\n",
    "       [-2.35575405, -0.03728186],\n",
    "       [-2.50666891, -0.14601688],\n",
    "       [-2.46882007,  0.13095149],\n",
    "       [-2.56231991,  0.36771886],\n",
    "       [-2.63953472,  0.31203998],\n",
    "       [-2.63198939, -0.19696122],\n",
    "       [-2.58739848, -0.20431849],\n",
    "       [-2.4099325 ,  0.41092426],\n",
    "       [-2.64886233,  0.81336382],\n",
    "       [-2.59873675,  1.09314576],\n",
    "       [-2.63692688, -0.12132235],\n",
    "       [-2.86624165,  0.06936447],\n",
    "       [-2.62523805,  0.59937002],\n",
    "       [-2.80068412,  0.26864374],\n",
    "       [-2.98050204, -0.48795834],\n",
    "       [-2.59000631,  0.22904384],\n",
    "       [-2.77010243,  0.26352753],\n",
    "       [-2.84936871, -0.94096057],\n",
    "       [-2.99740655, -0.34192606],\n",
    "       [-2.40561449,  0.18887143],\n",
    "       [-2.20948924,  0.43666314],\n",
    "       [-2.71445143, -0.2502082 ],\n",
    "       [-2.53814826,  0.50377114],\n",
    "       [-2.83946217, -0.22794557],\n",
    "       [-2.54308575,  0.57941002],\n",
    "       [-2.70335978,  0.10770608],\n",
    "       [ 1.28482569,  0.68516047],\n",
    "       [ 0.93248853,  0.31833364],\n",
    "       [ 1.46430232,  0.50426282],\n",
    "       [ 0.18331772, -0.82795901],\n",
    "       [ 1.08810326,  0.07459068],\n",
    "       [ 0.64166908, -0.41824687],\n",
    "       [ 1.09506066,  0.28346827],\n",
    "       [-0.74912267, -1.00489096],\n",
    "       [ 1.04413183,  0.2283619 ],\n",
    "       [-0.0087454 , -0.72308191],\n",
    "       [-0.50784088, -1.26597119],\n",
    "       [ 0.51169856, -0.10398124],\n",
    "       [ 0.26497651, -0.55003646],\n",
    "       [ 0.98493451, -0.12481785],\n",
    "       [-0.17392537, -0.25485421],\n",
    "       [ 0.92786078,  0.46717949],\n",
    "       [ 0.66028376, -0.35296967],\n",
    "       [ 0.23610499, -0.33361077],\n",
    "       [ 0.94473373, -0.54314555],\n",
    "       [ 0.04522698, -0.58383438],\n",
    "       [ 1.11628318, -0.08461685],\n",
    "       [ 0.35788842, -0.06892503],\n",
    "       [ 1.29818388, -0.32778731],\n",
    "       [ 0.92172892, -0.18273779],\n",
    "       [ 0.71485333,  0.14905594],\n",
    "       [ 0.90017437,  0.32850447],\n",
    "       [ 1.33202444,  0.24444088],\n",
    "       [ 1.55780216,  0.26749545],\n",
    "       [ 0.81329065, -0.1633503 ],\n",
    "       [-0.30558378, -0.36826219],\n",
    "       [-0.06812649, -0.70517213],\n",
    "       [-0.18962247, -0.68028676],\n",
    "       [ 0.13642871, -0.31403244],\n",
    "       [ 1.38002644, -0.42095429],\n",
    "       [ 0.58800644, -0.48428742],\n",
    "       [ 0.80685831,  0.19418231],\n",
    "       [ 1.22069088,  0.40761959],\n",
    "       [ 0.81509524, -0.37203706],\n",
    "       [ 0.24595768, -0.2685244 ],\n",
    "       [ 0.16641322, -0.68192672],\n",
    "       [ 0.46480029, -0.67071154],\n",
    "       [ 0.8908152 , -0.03446444],\n",
    "       [ 0.23054802, -0.40438585],\n",
    "       [-0.70453176, -1.01224823],\n",
    "       [ 0.35698149, -0.50491009],\n",
    "       [ 0.33193448, -0.21265468],\n",
    "       [ 0.37621565, -0.29321893],\n",
    "       [ 0.64257601,  0.01773819],\n",
    "       [-0.90646986, -0.75609337],\n",
    "       [ 0.29900084, -0.34889781],\n",
    "       [ 2.53119273, -0.00984911],\n",
    "       [ 1.41523588, -0.57491635],\n",
    "       [ 2.61667602,  0.34390315],\n",
    "       [ 1.97153105, -0.1797279 ],\n",
    "       [ 2.35000592, -0.04026095],\n",
    "       [ 3.39703874,  0.55083667],\n",
    "       [ 0.52123224, -1.19275873],\n",
    "       [ 2.93258707,  0.3555    ],\n",
    "       [ 2.32122882, -0.2438315 ],\n",
    "       [ 2.91675097,  0.78279195],\n",
    "       [ 1.66177415,  0.24222841],\n",
    "       [ 1.80340195, -0.21563762],\n",
    "       [ 2.1655918 ,  0.21627559],\n",
    "       [ 1.34616358, -0.77681835],\n",
    "       [ 1.58592822, -0.53964071],\n",
    "       [ 1.90445637,  0.11925069],\n",
    "       [ 1.94968906,  0.04194326],\n",
    "       [ 3.48705536,  1.17573933],\n",
    "       [ 3.79564542,  0.25732297],\n",
    "       [ 1.30079171, -0.76114964],\n",
    "       [ 2.42781791,  0.37819601],\n",
    "       [ 1.19900111, -0.60609153],\n",
    "       [ 3.49992004,  0.4606741 ],\n",
    "       [ 1.38876613, -0.20439933],\n",
    "       [ 2.2754305 ,  0.33499061],\n",
    "       [ 2.61409047,  0.56090136],\n",
    "       [ 1.25850816, -0.17970479],\n",
    "       [ 1.29113206, -0.11666865],\n",
    "       [ 2.12360872, -0.20972948],\n",
    "       [ 2.38800302,  0.4646398 ],\n",
    "       [ 2.84167278,  0.37526917],\n",
    "       [ 3.23067366,  1.37416509],\n",
    "       [ 2.15943764, -0.21727758],\n",
    "       [ 1.44416124, -0.14341341],\n",
    "       [ 1.78129481, -0.49990168],\n",
    "       [ 3.07649993,  0.68808568],\n",
    "       [ 2.14424331,  0.1400642 ],\n",
    "       [ 1.90509815,  0.04930053],\n",
    "       [ 1.16932634, -0.16499026],\n",
    "       [ 2.10761114,  0.37228787],\n",
    "       [ 2.31415471,  0.18365128],\n",
    "       [ 1.9222678 ,  0.40920347],\n",
    "       [ 1.41523588, -0.57491635],\n",
    "       [ 2.56301338,  0.2778626 ],\n",
    "       [ 2.41874618,  0.3047982 ],\n",
    "       [ 1.94410979,  0.1875323 ],\n",
    "       [ 1.52716661, -0.37531698],\n",
    "       [ 1.76434572,  0.07885885],\n",
    "       [ 1.90094161,  0.11662796],\n",
    "       [ 1.39018886, -0.28266094]])"
   ]
  },
  {
   "cell_type": "code",
   "execution_count": 10,
   "metadata": {},
   "outputs": [],
   "source": [
    "mus = np.array([0, 0, 0, 0, 0, 0, 0, 0, 0, 0, 0, 0, 0, 0, 0, 0, 0, 0, 0, 0, 0, 0,\n",
    "       0, 0, 0, 0, 0, 0, 0, 0, 0, 0, 0, 0, 0, 0, 0, 0, 0, 0, 0, 0, 0, 0,\n",
    "       0, 0, 0, 0, 0, 0, 1, 1, 1, 1, 1, 1, 1, 1, 1, 1, 1, 1, 1, 1, 1, 1,\n",
    "       1, 1, 1, 1, 1, 1, 1, 1, 1, 1, 1, 1, 1, 1, 1, 1, 1, 1, 1, 1, 1, 1,\n",
    "       1, 1, 1, 1, 1, 1, 1, 1, 1, 1, 1, 1, 0, 0, 0, 0, 0, 0, 0, 0, 0, 0,\n",
    "       0, 0, 0, 0, 0, 0, 0, 0, 0, 0, 0, 0, 0, 0, 0, 0, 0, 0, 0, 0, 0, 0,\n",
    "       0, 0, 0, 0, 0, 0, 0, 0, 0, 0, 0, 0, 0, 0, 0, 0, 0, 0])"
   ]
  },
  {
   "cell_type": "code",
   "execution_count": 11,
   "metadata": {},
   "outputs": [],
   "source": [
    "x_setosa = xs[:50]\n",
    "y_setosa = mus[:50]\n",
    "x_virginica = xs[50:100]\n",
    "y_virginica = mus[50:100]\n",
    "x_versicolor = xs[100:]\n",
    "y_versicolor = mus[100:]"
   ]
  },
  {
   "cell_type": "code",
   "execution_count": 12,
   "metadata": {},
   "outputs": [
    {
     "data": {
      "image/png": "[encoded data removed]",
      "text/plain": [
       "<Figure size 432x288 with 1 Axes>"
      ]
     },
     "metadata": {
      "needs_background": "light"
     },
     "output_type": "display_data"
    }
   ],
   "source": [
    "import matplotlib.pyplot as plt\n",
    "\n",
    "plt.scatter(*x_versicolor.T, c=y_versicolor)\n",
    "plt.show()"
   ]
  },
  {
   "cell_type": "code",
   "execution_count": 13,
   "metadata": {},
   "outputs": [],
   "source": [
    "from mulearn.kernel import GaussianKernel\n",
    "\n",
    "k = GaussianKernel()\n",
    "\n",
    "c = 2"
   ]
  },
  {
   "cell_type": "code",
   "execution_count": 14,
   "metadata": {},
   "outputs": [],
   "source": [
    "m = len(xs)"
   ]
  },
  {
   "cell_type": "code",
   "execution_count": 15,
   "metadata": {},
   "outputs": [],
   "source": [
    "import tensorflow as tf"
   ]
  },
  {
   "cell_type": "code",
   "execution_count": 186,
   "metadata": {},
   "outputs": [],
   "source": [
    "alphas = [tf.Variable(ch, name=f'alpha_{i}', trainable=True, dtype=tf.float32)\n",
    "          for i, ch in enumerate(np.random.uniform(-0.1, 0.1, m))]\n",
    "betas = [tf.Variable(ch, name=f'beta_{i}', trainable=True, dtype=tf.float32)\n",
    "         for i, ch in enumerate(np.random.uniform(-0.1, 0.1, m))]"
   ]
  },
  {
   "cell_type": "code",
   "execution_count": 187,
   "metadata": {},
   "outputs": [],
   "source": [
    "gram = np.array([[k.compute(x1, x2) for x2 in xs] for x1 in xs])"
   ]
  },
  {
   "cell_type": "code",
   "execution_count": 188,
   "metadata": {},
   "outputs": [],
   "source": [
    "x = alphas + betas"
   ]
  },
  {
   "cell_type": "code",
   "execution_count": 189,
   "metadata": {},
   "outputs": [],
   "source": [
    "K11 = np.array([[-mu_i * mu_j for mu_j in mus] for mu_i in mus]) * gram\n",
    "K00 = np.array([[-(1-mu_i) * (1 - mu_j) for mu_j in mus] for mu_i in mus]) * gram\n",
    "K01 = np.array([[2 * mu_i * (1-mu_j) for mu_j in mus] for mu_i in mus]) * gram\n",
    "Z = np.zeros((m, m))"
   ]
  },
  {
   "cell_type": "code",
   "execution_count": 190,
   "metadata": {},
   "outputs": [],
   "source": [
    "Q = -np.vstack((np.hstack((K11, K01)), np.hstack((Z, K00))))\n",
    "q = -np.hstack((np.diag(gram) * mus, np.diag(gram) * (1 - mus)))"
   ]
  },
  {
   "cell_type": "code",
   "execution_count": 191,
   "metadata": {},
   "outputs": [],
   "source": [
    "A = np.array([np.hstack((mus, 1-mus))])\n",
    "b = np.array([1])"
   ]
  },
  {
   "cell_type": "code",
   "execution_count": 192,
   "metadata": {},
   "outputs": [],
   "source": [
    "C = np.vstack((np.hstack((np.identity(m), np.zeros((m, m)))),\n",
    "               np.hstack((np.zeros((m, m)), -np.identity(m)))))\n",
    "d = np.hstack((np.zeros(m), - c * np.ones(m)))"
   ]
  },
  {
   "cell_type": "code",
   "execution_count": 193,
   "metadata": {},
   "outputs": [],
   "source": [
    "x = np.random.random(2*m)\n",
    "assert(Q.shape == (2*m, 2*m))\n",
    "assert(len(q) == 2*m)\n",
    "assert(type(x @ (Q @ x) + q @ x) is np.float64)\n",
    "\n",
    "assert(A.shape == (1, 2*m))\n",
    "assert(len(b) == 1)\n",
    "assert(type(A@x - b) == np.ndarray)\n",
    "assert(len(A@x - b) == 1)\n",
    "\n",
    "assert(C.shape == (2*m, 2*m))\n",
    "assert(len(d) == 2*m)\n",
    "assert(type(C @ x - d) == np.ndarray)\n",
    "assert(len(C @ x - d) == 2*m)"
   ]
  },
  {
   "cell_type": "code",
   "execution_count": 16,
   "metadata": {},
   "outputs": [],
   "source": [
    "import tensorflow as tf\n",
    "from tensorflow.keras.optimizers import Adam\n",
    "\n",
    "def solve_lagrange_relaxation(Q, q, A, b, C, d,\n",
    "                  max_iter=1000,\n",
    "                  max_gap=10**-4,\n",
    "                  alpha_0 = 10**-1,\n",
    "                  window_width = 30,\n",
    "                  verbose=False):\n",
    "    \"\"\"Solves the lagrangian relaxation for a constrained optimization\n",
    "    problem and returns its result. The structure of the primal problem\n",
    "    is the following\n",
    "    \n",
    "    min x.T Q x + q.T x\n",
    "    subject to\n",
    "    A x = b\n",
    "    C x <= d\n",
    "    \n",
    "    where .T denotes the transposition operator. Optimization takes place\n",
    "    in a iterated two-steps procedure: an outer process devoted to modifying\n",
    "    the values of the lagrange multipliers, and an inner process working on\n",
    "    the primal variables.\n",
    "    \n",
    "    The arguments are as follows, given n as the number of variables of\n",
    "    the primal problem (i.e., the length of x)\n",
    "    \n",
    "    - Q: n x n matrix containing the quadratic coefficients of the cost\n",
    "    function;\n",
    "    - q: vector containing the n linear coefficients of the cost function\n",
    "    - A: s x n matrix containing the coefficients of the = constraints\n",
    "    - b: vector containing the s right members of the = constraints\n",
    "    - C: t x n matrix containing the coefficients of the <= constraings\n",
    "    - d: vector containing the t right members of the <= coefficients\n",
    "    - max_iter: maximum number of iterations of the *outer* optimization\n",
    "    procedure\n",
    "    - max_gap: maximum gap between primal and dual objectives ensuring\n",
    "    premature end of the *outer* optimization procedure\n",
    "    - alpha_0: initial value of the learning rate in the *outer* optimization\n",
    "    procedure\n",
    "    - window_width: width of the moving window on the objective function for\n",
    "    the *inner* optimization process\n",
    "    - verbose: boolean flag triggering verbose output\n",
    "    \n",
    "    returns\n",
    "    \"\"\"\n",
    "\n",
    "    #TODO add possibility to specify initial values\n",
    "\n",
    "    x = tf.Variable(np.random.random(len(q)),\n",
    "                    name='x',\n",
    "                    trainable=True,\n",
    "                    dtype=tf.float32)\n",
    "    Q = tf.constant(np.array(Q), dtype='float32')\n",
    "    q = tf.constant(np.array(q), dtype='float32')\n",
    "    \n",
    "    A = np.array(A)\n",
    "    s = len(A)\n",
    "    C = np.array(C)\n",
    "    b = np.array(b)\n",
    "    d = np.array(d)\n",
    "    \n",
    "    M = np.vstack([A, -A, C])\n",
    "    m = np.hstack([b, -b, d])\n",
    "    lambda_ = tf.constant(np.random.random(len(m)), dtype='float32')\n",
    "    \n",
    "    M = tf.constant(M, dtype='float32')\n",
    "    m = tf.constant(m, dtype='float32')\n",
    "\n",
    "    \n",
    "    def original_objective():\n",
    "        def obj():\n",
    "            return tf.tensordot(tf.linalg.matvec(Q, x), x, axes=1) + \\\n",
    "                tf.tensordot(q, x, axes=1)\n",
    "        return obj\n",
    "\n",
    "    def lagrangian_objective(lambda_):\n",
    "        def obj():\n",
    "            return tf.tensordot(tf.linalg.matvec(Q, x), x, axes=1) + \\\n",
    "                tf.tensordot(q, x, axes=1) + \\\n",
    "                tf.tensordot(lambda_, m - tf.linalg.matvec(M, x), axes=1)\n",
    "        return obj\n",
    "\n",
    "    obj_val = []\n",
    "    lagr_val = []\n",
    "    gap_val = []\n",
    "    gap = max_gap + 1\n",
    "\n",
    "    num_bad_iterations = 0\n",
    "    prev_orig = np.inf\n",
    "\n",
    "    i = 0\n",
    "    \n",
    "    while i < max_iter and (gap<0 or gap > max_gap):\n",
    "        lagr_obj = lagrangian_objective(lambda_)\n",
    "        orig_obj = original_objective()\n",
    "        prev_lagr = 10*3\n",
    "        curr_lagr = 0\n",
    "        vals = []\n",
    "        t = 0\n",
    "        window_width = 30\n",
    "        window = list(np.logspace(1, window_width, window_width))\n",
    "        # this is to ensure a high value for the standard deviation\n",
    "        # of the elements to which the window has been initialized \n",
    "        \n",
    "        while (np.std(window)/abs(np.mean(window)) > 0.001 or t < 100) \\\n",
    "            and t < 1000:\n",
    "            optimizer.minimize(lagr_obj, var_list=x)\n",
    "            prev_lagr = curr_lagr\n",
    "            curr_lagr = lagr_obj().numpy()\n",
    "            vals.append(curr_lagr)\n",
    "            t += 1\n",
    "            window = window[1:]\n",
    "            window.append(curr_lagr)\n",
    "        \n",
    "        curr_orig = orig_obj().numpy()\n",
    "        if curr_orig < prev_orig:\n",
    "            num_bad_iterations += 1\n",
    "\n",
    "        prev_orig = curr_orig\n",
    "\n",
    "        \n",
    "        obj_val.append(curr_orig)\n",
    "        lagr_val.append(curr_lagr)\n",
    "        \n",
    "        subgradient = (m - tf.linalg.matvec(M, x)).numpy()\n",
    "        gap = tf.tensordot(lambda_[:2*s], m[:2*s] - \\\n",
    "            tf.linalg.matvec(M[:2*s], x), axes=1).numpy()\n",
    "        gap_val.append(gap)\n",
    "        \n",
    "        if verbose and i%10 == 0:\n",
    "            print(f'i={i}, dual={lagr_obj().numpy():.3f}, '\n",
    "                f'prim={orig_obj().numpy():.3f}, '\n",
    "                f'gap={gap:.6f}')\n",
    "        \n",
    "        alpha = alpha_0 / num_bad_iterations\n",
    "        lambda_ = tf.maximum(0, lambda_ + alpha * subgradient)\n",
    "\n",
    "        i += 1\n",
    "\n",
    "    return obj_val, lagr_val, x, lambda_, gap_val"
   ]
  },
  {
   "cell_type": "code",
   "execution_count": 28,
   "metadata": {},
   "outputs": [
    {
     "ename": "NameError",
     "evalue": "name 'optimizer' is not defined",
     "output_type": "error",
     "traceback": [
      "\u001b[0;31m---------------------------------------------------------------------------\u001b[0m",
      "\u001b[0;31mNameError\u001b[0m                                 Traceback (most recent call last)",
      "\u001b[0;32m<ipython-input-28-963def183f2b>\u001b[0m in \u001b[0;36m<module>\u001b[0;34m\u001b[0m\n\u001b[0;32m----> 1\u001b[0;31m \u001b[0msol\u001b[0m \u001b[0;34m=\u001b[0m \u001b[0msolve_lagrange_relaxation\u001b[0m\u001b[0;34m(\u001b[0m\u001b[0mQ\u001b[0m\u001b[0;34m,\u001b[0m \u001b[0mq\u001b[0m\u001b[0;34m,\u001b[0m \u001b[0mA\u001b[0m\u001b[0;34m,\u001b[0m \u001b[0mb\u001b[0m\u001b[0;34m,\u001b[0m \u001b[0mC\u001b[0m\u001b[0;34m,\u001b[0m \u001b[0md\u001b[0m\u001b[0;34m,\u001b[0m \u001b[0mverbose\u001b[0m\u001b[0;34m=\u001b[0m\u001b[0;32mTrue\u001b[0m\u001b[0;34m)\u001b[0m\u001b[0;34m\u001b[0m\u001b[0;34m\u001b[0m\u001b[0m\n\u001b[0m",
      "\u001b[0;32m<ipython-input-27-68da92045314>\u001b[0m in \u001b[0;36msolve_lagrange_relaxation\u001b[0;34m(Q, q, A, b, C, d, max_iter, max_gap, alpha_0, window_width, verbose)\u001b[0m\n\u001b[1;32m    105\u001b[0m         \u001b[0;32mwhile\u001b[0m \u001b[0;34m(\u001b[0m\u001b[0mnp\u001b[0m\u001b[0;34m.\u001b[0m\u001b[0mstd\u001b[0m\u001b[0;34m(\u001b[0m\u001b[0mwindow\u001b[0m\u001b[0;34m)\u001b[0m\u001b[0;34m/\u001b[0m\u001b[0mabs\u001b[0m\u001b[0;34m(\u001b[0m\u001b[0mnp\u001b[0m\u001b[0;34m.\u001b[0m\u001b[0mmean\u001b[0m\u001b[0;34m(\u001b[0m\u001b[0mwindow\u001b[0m\u001b[0;34m)\u001b[0m\u001b[0;34m)\u001b[0m \u001b[0;34m>\u001b[0m \u001b[0;36m0.001\u001b[0m \u001b[0;32mor\u001b[0m \u001b[0mt\u001b[0m \u001b[0;34m<\u001b[0m \u001b[0;36m100\u001b[0m\u001b[0;34m)\u001b[0m\u001b[0;31m \u001b[0m\u001b[0;31m\\\u001b[0m\u001b[0;34m\u001b[0m\u001b[0;34m\u001b[0m\u001b[0m\n\u001b[1;32m    106\u001b[0m             \u001b[0;32mand\u001b[0m \u001b[0mt\u001b[0m \u001b[0;34m<\u001b[0m \u001b[0;36m1000\u001b[0m\u001b[0;34m:\u001b[0m\u001b[0;34m\u001b[0m\u001b[0;34m\u001b[0m\u001b[0m\n\u001b[0;32m--> 107\u001b[0;31m             \u001b[0moptimizer\u001b[0m\u001b[0;34m.\u001b[0m\u001b[0mminimize\u001b[0m\u001b[0;34m(\u001b[0m\u001b[0mlagr_obj\u001b[0m\u001b[0;34m,\u001b[0m \u001b[0mvar_list\u001b[0m\u001b[0;34m=\u001b[0m\u001b[0mx\u001b[0m\u001b[0;34m)\u001b[0m\u001b[0;34m\u001b[0m\u001b[0;34m\u001b[0m\u001b[0m\n\u001b[0m\u001b[1;32m    108\u001b[0m             \u001b[0mprev_lagr\u001b[0m \u001b[0;34m=\u001b[0m \u001b[0mcurr_lagr\u001b[0m\u001b[0;34m\u001b[0m\u001b[0;34m\u001b[0m\u001b[0m\n\u001b[1;32m    109\u001b[0m             \u001b[0mcurr_lagr\u001b[0m \u001b[0;34m=\u001b[0m \u001b[0mlagr_obj\u001b[0m\u001b[0;34m(\u001b[0m\u001b[0;34m)\u001b[0m\u001b[0;34m.\u001b[0m\u001b[0mnumpy\u001b[0m\u001b[0;34m(\u001b[0m\u001b[0;34m)\u001b[0m\u001b[0;34m\u001b[0m\u001b[0;34m\u001b[0m\u001b[0m\n",
      "\u001b[0;31mNameError\u001b[0m: name 'optimizer' is not defined"
     ]
    }
   ],
   "source": [
    "sol = solve_lagrange_relaxation(Q, q, A, b, C, d, verbose=True)"
   ]
  },
  {
   "cell_type": "code",
   "execution_count": 17,
   "metadata": {},
   "outputs": [],
   "source": [
    "from mulearn import FuzzyInductor"
   ]
  },
  {
   "cell_type": "code",
   "execution_count": 18,
   "metadata": {},
   "outputs": [
    {
     "data": {
      "text/html": [
       "<div>\n",
       "<style scoped>\n",
       "    .dataframe tbody tr th:only-of-type {\n",
       "        vertical-align: middle;\n",
       "    }\n",
       "\n",
       "    .dataframe tbody tr th {\n",
       "        vertical-align: top;\n",
       "    }\n",
       "\n",
       "    .dataframe thead th {\n",
       "        text-align: right;\n",
       "    }\n",
       "</style>\n",
       "<table border=\"1\" class=\"dataframe\">\n",
       "  <thead>\n",
       "    <tr style=\"text-align: right;\">\n",
       "      <th></th>\n",
       "      <th>Sepal length</th>\n",
       "      <th>Sepal width</th>\n",
       "      <th>Petal length</th>\n",
       "      <th>Petal width</th>\n",
       "      <th>Class</th>\n",
       "    </tr>\n",
       "  </thead>\n",
       "  <tbody>\n",
       "    <tr>\n",
       "      <th>0</th>\n",
       "      <td>5.1</td>\n",
       "      <td>3.5</td>\n",
       "      <td>1.4</td>\n",
       "      <td>0.2</td>\n",
       "      <td>Setosa</td>\n",
       "    </tr>\n",
       "    <tr>\n",
       "      <th>1</th>\n",
       "      <td>4.9</td>\n",
       "      <td>3.0</td>\n",
       "      <td>1.4</td>\n",
       "      <td>0.2</td>\n",
       "      <td>Setosa</td>\n",
       "    </tr>\n",
       "    <tr>\n",
       "      <th>2</th>\n",
       "      <td>4.7</td>\n",
       "      <td>3.2</td>\n",
       "      <td>1.3</td>\n",
       "      <td>0.2</td>\n",
       "      <td>Setosa</td>\n",
       "    </tr>\n",
       "    <tr>\n",
       "      <th>3</th>\n",
       "      <td>4.6</td>\n",
       "      <td>3.1</td>\n",
       "      <td>1.5</td>\n",
       "      <td>0.2</td>\n",
       "      <td>Setosa</td>\n",
       "    </tr>\n",
       "    <tr>\n",
       "      <th>4</th>\n",
       "      <td>5.0</td>\n",
       "      <td>3.6</td>\n",
       "      <td>1.4</td>\n",
       "      <td>0.2</td>\n",
       "      <td>Setosa</td>\n",
       "    </tr>\n",
       "  </tbody>\n",
       "</table>\n",
       "</div>"
      ],
      "text/plain": [
       "   Sepal length  Sepal width  Petal length  Petal width   Class\n",
       "0           5.1          3.5           1.4          0.2  Setosa\n",
       "1           4.9          3.0           1.4          0.2  Setosa\n",
       "2           4.7          3.2           1.3          0.2  Setosa\n",
       "3           4.6          3.1           1.5          0.2  Setosa\n",
       "4           5.0          3.6           1.4          0.2  Setosa"
      ]
     },
     "execution_count": 18,
     "metadata": {},
     "output_type": "execute_result"
    }
   ],
   "source": [
    "import sklearn.datasets as ds\n",
    "import pandas as pd\n",
    "import numpy as np\n",
    "\n",
    "iris_X, iris_y = ds.load_iris(return_X_y=True)\n",
    "labels = (\"Setosa\", \"Versicolor\", \"Virginica\")\n",
    "\n",
    "df = pd.DataFrame(iris_X, columns=[\"Sepal length\", \"Sepal width\",\n",
    "                                   \"Petal length\", \"Petal width\"])\n",
    "df['Class'] = iris_y\n",
    "df['Class'] = df['Class'].map(lambda c: labels[c])\n",
    "\n",
    "n = 20\n",
    "filt = list(range(n)) + list(range(50, 50+n)) + list(range(100, 100+n))\n",
    "df = df.iloc[filt]\n",
    "\n",
    "df.head()"
   ]
  },
  {
   "cell_type": "code",
   "execution_count": 19,
   "metadata": {},
   "outputs": [],
   "source": [
    "from sklearn.decomposition import PCA\n",
    "\n",
    "pca_2d = PCA(n_components=2)\n",
    "iris_X_2d = pca_2d.fit_transform(iris_X)\n",
    "\n",
    "iris_versicolor = iris_y.copy()\n",
    "iris_versicolor[iris_versicolor==2] = 0"
   ]
  },
  {
   "cell_type": "code",
   "execution_count": 20,
   "metadata": {
    "scrolled": true
   },
   "outputs": [
    {
     "name": "stdout",
     "output_type": "stream",
     "text": [
      "i=0, dual=102.827, prim=242.129, gap=-55.414356\n",
      "i=1, dual=357.986, prim=116.948, gap=323.034851\n",
      "i=2, dual=253.775, prim=46.308, gap=291.154755\n",
      "i=3, dual=100.325, prim=11.752, gap=174.763428\n",
      "i=4, dual=-47.801, prim=5.365, gap=35.609734\n",
      "i=5, dual=-171.988, prim=21.899, gap=-102.683548\n",
      "i=6, dual=-258.151, prim=55.199, gap=-220.886414\n",
      "i=7, dual=-294.699, prim=94.927, gap=-297.112335\n",
      "i=8, dual=-277.160, prim=119.558, gap=-306.029297\n",
      "i=9, dual=-216.890, prim=119.703, gap=-252.049225\n",
      "i=10, dual=-157.622, prim=114.367, gap=-193.186325\n",
      "i=11, dual=-122.937, prim=84.535, gap=-130.854065\n",
      "i=12, dual=-99.620, prim=61.755, gap=-86.653015\n",
      "i=13, dual=-84.435, prim=45.044, gap=-56.396461\n",
      "i=14, dual=-74.877, prim=33.098, gap=-36.320381\n",
      "i=15, dual=-68.864, prim=24.702, gap=-23.322838\n",
      "i=16, dual=-65.050, prim=18.826, gap=-15.028122\n",
      "i=17, dual=-62.515, prim=14.656, gap=-9.747955\n",
      "i=18, dual=-60.734, prim=11.625, gap=-6.371319\n",
      "i=19, dual=-59.380, prim=9.372, gap=-4.202564\n",
      "i=20, dual=-58.285, prim=7.657, gap=-2.798264\n",
      "i=21, dual=-57.270, prim=6.334, gap=-1.884737\n",
      "i=22, dual=-56.282, prim=5.296, gap=-1.283327\n",
      "i=23, dual=-55.285, prim=4.477, gap=-0.883704\n",
      "i=24, dual=-54.259, prim=3.836, gap=-0.616013\n",
      "i=25, dual=-53.223, prim=3.317, gap=-0.429999\n",
      "i=26, dual=-52.210, prim=2.900, gap=-0.298912\n",
      "i=27, dual=-51.305, prim=2.501, gap=-0.189784\n",
      "i=28, dual=-50.460, prim=2.120, gap=-0.096897\n",
      "i=29, dual=-49.669, prim=1.759, gap=-0.015111\n",
      "i=30, dual=-48.924, prim=1.416, gap=0.059783\n",
      "i=31, dual=-48.252, prim=1.090, gap=0.131044\n",
      "i=32, dual=-47.598, prim=0.782, gap=0.201102\n",
      "i=33, dual=-46.964, prim=0.491, gap=0.271690\n",
      "i=34, dual=-46.350, prim=0.215, gap=0.343968\n",
      "i=35, dual=-45.751, prim=-0.045, gap=0.418635\n",
      "i=36, dual=-45.179, prim=-0.291, gap=0.496066\n",
      "i=37, dual=-44.631, prim=-0.523, gap=0.576364\n",
      "i=38, dual=-44.088, prim=-0.741, gap=0.659424\n",
      "i=39, dual=-43.549, prim=-0.946, gap=0.744993\n",
      "i=40, dual=-43.019, prim=-1.139, gap=0.832706\n",
      "i=41, dual=-42.512, prim=-1.319, gap=0.922133\n",
      "i=42, dual=-42.011, prim=-1.489, gap=1.012787\n",
      "i=43, dual=-41.513, prim=-1.647, gap=1.104158\n",
      "i=44, dual=-41.022, prim=-1.794, gap=1.195717\n",
      "i=45, dual=-40.548, prim=-1.932, gap=1.286928\n",
      "i=46, dual=-40.086, prim=-2.060, gap=1.377289\n",
      "i=47, dual=-39.627, prim=-2.178, gap=1.466337\n",
      "i=48, dual=-39.172, prim=-2.288, gap=1.553637\n",
      "i=49, dual=-38.722, prim=-2.389, gap=1.638805\n",
      "i=50, dual=-38.283, prim=-2.482, gap=1.721504\n",
      "i=51, dual=-37.861, prim=-2.568, gap=1.801447\n",
      "i=52, dual=-37.456, prim=-2.646, gap=1.878403\n",
      "i=53, dual=-37.077, prim=-2.718, gap=1.952188\n",
      "i=54, dual=-36.712, prim=-2.783, gap=2.022676\n",
      "i=55, dual=-36.352, prim=-2.842, gap=2.089769\n",
      "i=56, dual=-36.001, prim=-2.895, gap=2.153358\n",
      "i=57, dual=-35.657, prim=-2.943, gap=2.213497\n",
      "i=58, dual=-35.330, prim=-2.986, gap=2.270239\n",
      "i=59, dual=-35.024, prim=-3.024, gap=2.323643\n",
      "i=60, dual=-34.722, prim=-3.058, gap=2.373789\n",
      "i=61, dual=-34.423, prim=-3.087, gap=2.420769\n",
      "i=62, dual=-34.127, prim=-3.113, gap=2.464689\n",
      "i=63, dual=-33.839, prim=-3.135, gap=2.505657\n",
      "i=64, dual=-33.567, prim=-3.153, gap=2.543791\n",
      "i=65, dual=-33.302, prim=-3.168, gap=2.579197\n",
      "i=66, dual=-33.041, prim=-3.180, gap=2.611988\n",
      "i=67, dual=-32.791, prim=-3.188, gap=2.642267\n",
      "i=68, dual=-32.548, prim=-3.194, gap=2.670128\n",
      "i=69, dual=-32.316, prim=-3.198, gap=2.695648\n",
      "i=70, dual=-32.088, prim=-3.198, gap=2.718908\n",
      "i=71, dual=-31.867, prim=-3.197, gap=2.739965\n",
      "i=72, dual=-31.651, prim=-3.192, gap=2.758808\n",
      "i=73, dual=-31.438, prim=-3.184, gap=2.775248\n",
      "i=74, dual=-31.236, prim=-3.173, gap=2.789143\n",
      "i=75, dual=-31.048, prim=-3.159, gap=2.800364\n",
      "i=76, dual=-30.855, prim=-3.142, gap=2.808788\n",
      "i=77, dual=-30.658, prim=-3.122, gap=2.814295\n",
      "i=78, dual=-30.456, prim=-3.098, gap=2.816776\n",
      "i=79, dual=-30.253, prim=-3.071, gap=2.816120\n",
      "i=80, dual=-30.062, prim=-3.042, gap=2.812227\n",
      "i=81, dual=-29.870, prim=-3.009, gap=2.804981\n",
      "i=82, dual=-29.694, prim=-2.972, gap=2.794244\n",
      "i=83, dual=-29.520, prim=-2.933, gap=2.779980\n",
      "i=84, dual=-29.344, prim=-2.891, gap=2.762155\n",
      "i=85, dual=-29.170, prim=-2.845, gap=2.740760\n",
      "i=86, dual=-29.004, prim=-2.797, gap=2.715786\n",
      "i=87, dual=-28.839, prim=-2.745, gap=2.687339\n",
      "i=88, dual=-28.675, prim=-2.691, gap=2.655489\n",
      "i=89, dual=-28.508, prim=-2.635, gap=2.620356\n",
      "i=90, dual=-28.337, prim=-2.576, gap=2.582095\n",
      "i=91, dual=-28.166, prim=-2.516, gap=2.540893\n",
      "i=92, dual=-27.994, prim=-2.453, gap=2.496970\n",
      "i=93, dual=-27.819, prim=-2.389, gap=2.450566\n",
      "i=94, dual=-27.640, prim=-2.323, gap=2.401936\n",
      "i=95, dual=-27.458, prim=-2.257, gap=2.351343\n",
      "i=96, dual=-27.273, prim=-2.190, gap=2.299050\n",
      "i=97, dual=-27.090, prim=-2.122, gap=2.245315\n",
      "i=98, dual=-26.909, prim=-2.053, gap=2.190396\n",
      "i=99, dual=-26.727, prim=-1.985, gap=2.134537\n",
      "i=100, dual=-26.550, prim=-1.917, gap=2.077958\n",
      "i=101, dual=-26.376, prim=-1.849, gap=2.020878\n",
      "i=102, dual=-26.207, prim=-1.781, gap=1.963439\n",
      "i=103, dual=-26.035, prim=-1.714, gap=1.905914\n",
      "i=104, dual=-25.868, prim=-1.648, gap=1.848465\n",
      "i=105, dual=-25.698, prim=-1.582, gap=1.791244\n",
      "i=106, dual=-25.525, prim=-1.518, gap=1.734370\n",
      "i=107, dual=-25.348, prim=-1.455, gap=1.677982\n",
      "i=108, dual=-25.168, prim=-1.392, gap=1.622192\n",
      "i=109, dual=-24.984, prim=-1.331, gap=1.567105\n",
      "i=110, dual=-24.800, prim=-1.271, gap=1.512808\n",
      "i=111, dual=-24.615, prim=-1.213, gap=1.459382\n",
      "i=112, dual=-24.430, prim=-1.156, gap=1.406896\n",
      "i=113, dual=-24.254, prim=-1.100, gap=1.355415\n",
      "i=114, dual=-24.075, prim=-1.045, gap=1.304906\n",
      "i=115, dual=-23.893, prim=-0.992, gap=1.255337\n",
      "i=116, dual=-23.707, prim=-0.940, gap=1.206784\n",
      "i=117, dual=-23.517, prim=-0.889, gap=1.159322\n",
      "i=118, dual=-23.324, prim=-0.839, gap=1.113013\n",
      "i=119, dual=-23.127, prim=-0.791, gap=1.067891\n",
      "i=120, dual=-22.926, prim=-0.744, gap=1.024002\n",
      "i=121, dual=-22.731, prim=-0.699, gap=0.981380\n",
      "i=122, dual=-22.535, prim=-0.655, gap=0.940043\n",
      "i=123, dual=-22.345, prim=-0.613, gap=0.900006\n",
      "i=124, dual=-22.152, prim=-0.571, gap=0.861287\n",
      "i=125, dual=-21.955, prim=-0.531, gap=0.823518\n",
      "i=126, dual=-21.756, prim=-0.492, gap=0.786827\n",
      "i=127, dual=-21.553, prim=-0.454, gap=0.751339\n",
      "i=128, dual=-21.353, prim=-0.417, gap=0.717094\n",
      "i=129, dual=-21.151, prim=-0.382, gap=0.684104\n",
      "i=130, dual=-20.947, prim=-0.348, gap=0.652398\n",
      "i=131, dual=-20.742, prim=-0.315, gap=0.621982\n",
      "i=132, dual=-20.532, prim=-0.284, gap=0.592863\n",
      "i=133, dual=-20.319, prim=-0.253, gap=0.565015\n",
      "i=134, dual=-20.103, prim=-0.225, gap=0.538427\n",
      "i=135, dual=-19.893, prim=-0.197, gap=0.513073\n",
      "i=136, dual=-19.689, prim=-0.170, gap=0.488940\n",
      "i=137, dual=-19.492, prim=-0.145, gap=0.465992\n",
      "i=138, dual=-19.294, prim=-0.121, gap=0.444217\n",
      "i=139, dual=-19.095, prim=-0.098, gap=0.423584\n",
      "i=140, dual=-18.900, prim=-0.076, gap=0.404082\n",
      "i=141, dual=-18.703, prim=-0.055, gap=0.385678\n",
      "i=142, dual=-18.503, prim=-0.035, gap=0.368342\n",
      "i=143, dual=-18.302, prim=-0.016, gap=0.352048\n",
      "i=144, dual=-18.111, prim=0.003, gap=0.336765\n",
      "i=145, dual=-17.921, prim=0.020, gap=0.322453\n",
      "i=146, dual=-17.734, prim=0.036, gap=0.309091\n",
      "i=147, dual=-17.546, prim=0.052, gap=0.296502\n",
      "i=148, dual=-17.354, prim=0.067, gap=0.284810\n",
      "i=149, dual=-17.159, prim=0.081, gap=0.273994\n",
      "i=150, dual=-16.962, prim=0.094, gap=0.264018\n",
      "i=151, dual=-16.761, prim=0.106, gap=0.254843\n",
      "i=152, dual=-16.564, prim=0.118, gap=0.246438\n",
      "i=153, dual=-16.376, prim=0.129, gap=0.238757\n",
      "i=154, dual=-16.191, prim=0.140, gap=0.231756\n",
      "i=155, dual=-16.009, prim=0.150, gap=0.225399\n",
      "i=156, dual=-15.832, prim=0.159, gap=0.219640\n",
      "i=157, dual=-15.657, prim=0.168, gap=0.214431\n",
      "i=158, dual=-15.494, prim=0.176, gap=0.209725\n",
      "i=159, dual=-15.337, prim=0.184, gap=0.205483\n",
      "i=160, dual=-15.183, prim=0.191, gap=0.201645\n",
      "i=161, dual=-15.027, prim=0.198, gap=0.198170\n",
      "i=162, dual=-14.871, prim=0.205, gap=0.195012\n",
      "i=163, dual=-14.715, prim=0.211, gap=0.192125\n",
      "i=164, dual=-14.556, prim=0.217, gap=0.189453\n",
      "i=165, dual=-14.396, prim=0.222, gap=0.186974\n",
      "i=166, dual=-14.233, prim=0.227, gap=0.184641\n",
      "i=167, dual=-14.068, prim=0.232, gap=0.182415\n",
      "i=168, dual=-13.908, prim=0.236, gap=0.180288\n",
      "i=169, dual=-13.751, prim=0.241, gap=0.178209\n",
      "i=170, dual=-13.592, prim=0.244, gap=0.176169\n",
      "i=171, dual=-13.433, prim=0.248, gap=0.173783\n",
      "i=172, dual=-13.283, prim=0.252, gap=0.171280\n",
      "i=173, dual=-13.135, prim=0.255, gap=0.168763\n",
      "i=174, dual=-12.985, prim=0.258, gap=0.166250\n",
      "i=175, dual=-12.833, prim=0.261, gap=0.163742\n",
      "i=176, dual=-12.679, prim=0.263, gap=0.161242\n"
     ]
    },
    {
     "name": "stdout",
     "output_type": "stream",
     "text": [
      "i=177, dual=-12.523, prim=0.265, gap=0.158758\n",
      "i=178, dual=-12.366, prim=0.267, gap=0.156319\n",
      "i=179, dual=-12.210, prim=0.268, gap=0.153951\n",
      "i=180, dual=-12.054, prim=0.269, gap=0.151655\n",
      "i=181, dual=-11.896, prim=0.270, gap=0.149477\n",
      "i=182, dual=-11.735, prim=0.271, gap=0.147486\n",
      "i=183, dual=-11.574, prim=0.271, gap=0.145715\n",
      "i=184, dual=-11.410, prim=0.271, gap=0.144255\n",
      "i=185, dual=-11.248, prim=0.270, gap=0.143112\n",
      "i=186, dual=-11.091, prim=0.269, gap=0.142407\n",
      "i=187, dual=-10.940, prim=0.268, gap=0.142267\n",
      "i=188, dual=-10.790, prim=0.265, gap=0.142776\n",
      "i=189, dual=-10.641, prim=0.262, gap=0.144040\n",
      "i=190, dual=-10.493, prim=0.258, gap=0.146106\n",
      "i=191, dual=-10.347, prim=0.254, gap=0.149011\n",
      "i=192, dual=-10.202, prim=0.248, gap=0.152730\n",
      "i=193, dual=-10.059, prim=0.242, gap=0.157201\n",
      "i=194, dual=-9.918, prim=0.235, gap=0.162330\n",
      "i=195, dual=-9.777, prim=0.228, gap=0.167965\n",
      "i=196, dual=-9.638, prim=0.220, gap=0.173953\n",
      "i=197, dual=-9.501, prim=0.212, gap=0.180111\n",
      "i=198, dual=-9.365, prim=0.204, gap=0.186286\n",
      "i=199, dual=-9.231, prim=0.196, gap=0.192350\n",
      "i=200, dual=-9.098, prim=0.189, gap=0.198167\n",
      "i=201, dual=-8.966, prim=0.181, gap=0.203630\n",
      "i=202, dual=-8.837, prim=0.174, gap=0.208670\n",
      "i=203, dual=-8.713, prim=0.167, gap=0.213228\n",
      "i=204, dual=-8.589, prim=0.160, gap=0.217277\n",
      "i=205, dual=-8.473, prim=0.154, gap=0.220807\n",
      "i=206, dual=-8.358, prim=0.148, gap=0.223770\n",
      "i=207, dual=-8.245, prim=0.143, gap=0.226218\n",
      "i=208, dual=-8.132, prim=0.138, gap=0.228139\n",
      "i=209, dual=-8.025, prim=0.133, gap=0.229127\n",
      "i=210, dual=-7.919, prim=0.129, gap=0.229730\n",
      "i=211, dual=-7.814, prim=0.125, gap=0.230057\n",
      "i=212, dual=-7.710, prim=0.122, gap=0.230099\n",
      "i=213, dual=-7.609, prim=0.118, gap=0.229928\n",
      "i=214, dual=-7.515, prim=0.115, gap=0.229514\n",
      "i=215, dual=-7.423, prim=0.111, gap=0.228809\n",
      "i=216, dual=-7.336, prim=0.108, gap=0.228088\n",
      "i=217, dual=-7.250, prim=0.105, gap=0.227238\n",
      "i=218, dual=-7.165, prim=0.101, gap=0.225804\n",
      "i=219, dual=-7.081, prim=0.099, gap=0.223539\n",
      "i=220, dual=-6.997, prim=0.097, gap=0.220295\n",
      "i=221, dual=-6.915, prim=0.096, gap=0.215965\n",
      "i=222, dual=-6.833, prim=0.096, gap=0.210476\n",
      "i=223, dual=-6.753, prim=0.097, gap=0.203805\n",
      "i=224, dual=-6.676, prim=0.098, gap=0.195911\n",
      "i=225, dual=-6.601, prim=0.101, gap=0.186838\n",
      "i=226, dual=-6.529, prim=0.104, gap=0.176576\n",
      "i=227, dual=-6.458, prim=0.108, gap=0.165192\n",
      "i=228, dual=-6.386, prim=0.113, gap=0.152758\n",
      "i=229, dual=-6.315, prim=0.119, gap=0.139397\n",
      "i=230, dual=-6.249, prim=0.125, gap=0.125286\n",
      "i=231, dual=-6.184, prim=0.131, gap=0.110539\n",
      "i=232, dual=-6.119, prim=0.138, gap=0.095255\n",
      "i=233, dual=-6.054, prim=0.145, gap=0.079548\n",
      "i=234, dual=-5.993, prim=0.152, gap=0.063597\n",
      "i=235, dual=-5.931, prim=0.159, gap=0.047550\n",
      "i=236, dual=-5.869, prim=0.166, gap=0.031528\n",
      "i=237, dual=-5.806, prim=0.173, gap=0.015652\n",
      "i=238, dual=-5.742, prim=0.180, gap=0.000033\n"
     ]
    },
    {
     "data": {
      "text/plain": [
       "FuzzyInductor(c=1, k=GaussianKernel(sigma=0.3), f=LinearFuzzifier(), solver=TensorFlowSolver(, optimizer=<tensorflow.python.keras.optimizer_v2.adam.Adam object at 0x7fb32b77a160>))"
      ]
     },
     "execution_count": 20,
     "metadata": {},
     "output_type": "execute_result"
    }
   ],
   "source": [
    "from mulearn.optimization import TensorFlowSolver\n",
    "from mulearn.fuzzifier import LinearFuzzifier\n",
    "\n",
    "\n",
    "opt = tf.optimizers.Adam(learning_rate=1e-4)\n",
    "\n",
    "fitf = FuzzyInductor(solver=TensorFlowSolver(optimizer=opt),\n",
    "                     k=GaussianKernel(sigma=0.3),\n",
    "                     fuzzifier=LinearFuzzifier())\n",
    "fitf.fit(iris_X_2d, iris_versicolor)"
   ]
  },
  {
   "cell_type": "code",
   "execution_count": 21,
   "metadata": {},
   "outputs": [
    {
     "data": {
      "text/plain": [
       "array([0, 0, 0, 0, 0, 0, 0, 0, 0, 0, 0, 0, 0, 1, 1, 1, 0, 0, 1, 0, 0, 0,\n",
       "       1, 0, 0, 0, 0, 0, 0, 0, 0, 0, 0, 1, 0, 0, 0, 0, 0, 0, 0, 1, 0, 0,\n",
       "       0, 0, 0, 0, 0, 0, 1, 1, 1, 1, 1, 1, 1, 1, 1, 1, 1, 1, 1, 1, 1, 1,\n",
       "       1, 1, 1, 1, 1, 1, 1, 1, 1, 1, 1, 1, 1, 1, 1, 1, 1, 1, 1, 1, 1, 1,\n",
       "       1, 1, 1, 1, 1, 1, 1, 1, 1, 1, 1, 1, 1, 1, 0, 0, 0, 1, 1, 1, 1, 1,\n",
       "       1, 0, 0, 1, 1, 0, 0, 1, 1, 1, 0, 1, 1, 1, 0, 1, 1, 1, 0, 0, 1, 1,\n",
       "       0, 1, 1, 1, 0, 0, 1, 0, 0, 0, 1, 0, 0, 0, 1, 0, 0, 1])"
      ]
     },
     "execution_count": 21,
     "metadata": {},
     "output_type": "execute_result"
    }
   ],
   "source": [
    "fitf.predict(iris_X_2d, alpha=0.5)"
   ]
  },
  {
   "cell_type": "code",
   "execution_count": 22,
   "metadata": {},
   "outputs": [
    {
     "data": {
      "text/plain": [
       "array([0, 0, 0, 0, 0, 0, 0, 0, 0, 0, 0, 0, 0, 0, 0, 0, 0, 0, 0, 0, 0, 0,\n",
       "       0, 0, 0, 0, 0, 0, 0, 0, 0, 0, 0, 0, 0, 0, 0, 0, 0, 0, 0, 0, 0, 0,\n",
       "       0, 0, 0, 0, 0, 0, 1, 1, 1, 1, 1, 1, 1, 1, 1, 1, 1, 1, 1, 1, 1, 1,\n",
       "       1, 1, 1, 1, 1, 1, 1, 1, 1, 1, 1, 1, 1, 1, 1, 1, 1, 1, 1, 1, 1, 1,\n",
       "       1, 1, 1, 1, 1, 1, 1, 1, 1, 1, 1, 1, 0, 0, 0, 0, 0, 0, 0, 0, 0, 0,\n",
       "       0, 0, 0, 0, 0, 0, 0, 0, 0, 0, 0, 0, 0, 0, 0, 0, 0, 0, 0, 0, 0, 0,\n",
       "       0, 0, 0, 0, 0, 0, 0, 0, 0, 0, 0, 0, 0, 0, 0, 0, 0, 0])"
      ]
     },
     "execution_count": 22,
     "metadata": {},
     "output_type": "execute_result"
    }
   ],
   "source": [
    "iris_versicolor"
   ]
  },
  {
   "cell_type": "code",
   "execution_count": 23,
   "metadata": {},
   "outputs": [],
   "source": [
    "x_space = np.linspace(-4, 4, 100)\n",
    "y_space = np.linspace(-2, 2, 100)\n",
    "\n",
    "X, Y = np.meshgrid(x_space, y_space)"
   ]
  },
  {
   "cell_type": "code",
   "execution_count": 24,
   "metadata": {},
   "outputs": [],
   "source": [
    "Z = [[fitf.predict([(x, y)])[0] for x in x_space]\n",
    "     for y in y_space]"
   ]
  },
  {
   "cell_type": "code",
   "execution_count": 30,
   "metadata": {},
   "outputs": [
    {
     "data": {
      "image/png": "[encoded data removed]",
      "text/plain": [
       "<Figure size 432x288 with 1 Axes>"
      ]
     },
     "metadata": {
      "needs_background": "light"
     },
     "output_type": "display_data"
    }
   ],
   "source": [
    "import matplotlib.cm as cm \n",
    "\n",
    "plt.scatter(*iris_X_2d.T, color=cm.coolwarm(iris_versicolor*255), s=9, alpha=0.7)\n",
    "contours = plt.contour(X, Y, Z, [.5, .6, .7, .8, .9], colors='gray')\n",
    "plt.clabel(contours, inline=True, fontsize=8)\n",
    "plt.show()"
   ]
  },
  {
   "cell_type": "code",
   "execution_count": null,
   "metadata": {},
   "outputs": [],
   "source": []
  }
 ],
 "metadata": {
  "interpreter": {
   "hash": "d82ad741bcea397925f8fc8a41d76633b51eb514db0ee1fc1249c622e214eae3"
  },
  "kernelspec": {
   "display_name": "Python 3 (ipykernel)",
   "language": "python",
   "name": "python3"
  },
  "language_info": {
   "codemirror_mode": {
    "name": "ipython",
    "version": 3
   },
   "file_extension": ".py",
   "mimetype": "text/x-python",
   "name": "python",
   "nbconvert_exporter": "python",
   "pygments_lexer": "ipython3",
   "version": "3.7.3"
  },
  "latex_envs": {
   "LaTeX_envs_menu_present": true,
   "autoclose": false,
   "autocomplete": true,
   "bibliofile": "biblio.bib",
   "cite_by": "apalike",
   "current_citInitial": 1,
   "eqLabelWithNumbers": true,
   "eqNumInitial": 1,
   "hotkeys": {
    "equation": "Ctrl-E",
    "itemize": "Ctrl-I"
   },
   "labels_anchors": false,
   "latex_user_defs": false,
   "report_style_numbering": false,
   "user_envs_cfg": false
  }
 },
 "nbformat": 4,
 "nbformat_minor": 4
}
